{
 "cells": [
  {
   "cell_type": "code",
   "execution_count": 2,
   "metadata": {},
   "outputs": [
    {
     "name": "stdout",
     "output_type": "stream",
     "text": [
      "    Ano  Previsao_Casos\n",
      "3  2023    1.772145e+07\n",
      "4  2024    1.929931e+07\n"
     ]
    },
    {
     "name": "stderr",
     "output_type": "stream",
     "text": [
      "/tmp/ipykernel_1178/1821001428.py:37: SettingWithCopyWarning: \n",
      "A value is trying to be set on a copy of a slice from a DataFrame.\n",
      "Try using .loc[row_indexer,col_indexer] = value instead\n",
      "\n",
      "See the caveats in the documentation: https://pandas.pydata.org/pandas-docs/stable/user_guide/indexing.html#returning-a-view-versus-a-copy\n",
      "  test_data['Previsao_Casos'] = predictions\n"
     ]
    }
   ],
   "source": [
    "#!pip install pandas\n",
    "#!pip install scikit-learn\n",
    "\n",
    "import pandas as pd\n",
    "from sklearn.model_selection import train_test_split\n",
    "from sklearn.linear_model import LinearRegression\n",
    "from sklearn.metrics import mean_absolute_error\n",
    "\n",
    "# 1. Leitura dos arquivos CSV\n",
    "dengue_cases = pd.read_csv('CasosDengue_2020-2024.csv', delimiter=';')\n",
    "climate_data = pd.read_csv('Media_Climatologica_Anual_2020-2024.csv', delimiter=';')\n",
    "\n",
    "# 2. Seleção das colunas necessárias e junção dos datasets\n",
    "dengue_cases = dengue_cases[['Ano', 'Total']]\n",
    "climate_data.columns = ['Ano', 'Precipitacao', 'Temperatura']\n",
    "\n",
    "# Juntar os dois datasets com base no ano\n",
    "data = pd.merge(dengue_cases, climate_data, on='Ano')\n",
    "\n",
    "# 3. Divisão dos dados de 2020 a 2022 para treinamento\n",
    "train_data = data[data['Ano'] <= 2022]\n",
    "test_data = data[data['Ano'] > 2022]\n",
    "\n",
    "# Separar os dados em X (entrada) e y (saída)\n",
    "X_train = train_data[['Precipitacao', 'Temperatura']]\n",
    "y_train = train_data['Total']\n",
    "\n",
    "# 4. Criação do modelo de regressão linear\n",
    "model = LinearRegression()\n",
    "model.fit(X_train, y_train)\n",
    "\n",
    "# 5. Prever casos para 2024 e 2025\n",
    "X_test = test_data[['Precipitacao', 'Temperatura']]\n",
    "predictions = model.predict(X_test)\n",
    "\n",
    "# Exibir as previsões\n",
    "test_data['Previsao_Casos'] = predictions\n",
    "print(test_data[['Ano', 'Previsao_Casos']])\n",
    "\n",
    "# Calcular erro se tivermos os valores reais para comparar (opcional)\n",
    "# y_test = test_data['Total']\n",
    "# error = mean_absolute_error(y_test, predictions)\n",
    "# print(f\"Erro médio absoluto: {error}\")\n"
   ]
  }
 ],
 "metadata": {
  "kernelspec": {
   "display_name": "Python 3",
   "language": "python",
   "name": "python3"
  },
  "language_info": {
   "codemirror_mode": {
    "name": "ipython",
    "version": 3
   },
   "file_extension": ".py",
   "mimetype": "text/x-python",
   "name": "python",
   "nbconvert_exporter": "python",
   "pygments_lexer": "ipython3",
   "version": "3.12.6"
  }
 },
 "nbformat": 4,
 "nbformat_minor": 2
}
