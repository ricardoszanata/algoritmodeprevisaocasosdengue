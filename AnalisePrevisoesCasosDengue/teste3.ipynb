{
 "cells": [
  {
   "cell_type": "code",
   "execution_count": 2,
   "metadata": {},
   "outputs": [
    {
     "name": "stdout",
     "output_type": "stream",
     "text": [
      "+----+-------+-------------------------+\n",
      "|    |   Ano |   Previsao_Casos_Dengue |\n",
      "+====+=======+=========================+\n",
      "|  0 |  2022 |             1.39383e+06 |\n",
      "+----+-------+-------------------------+\n",
      "|  0 |  2021 |        531804           |\n",
      "+----+-------+-------------------------+\n",
      "|  0 |  2020 |        944502           |\n",
      "+----+-------+-------------------------+\n",
      "|  3 |  2023 |             1.77215e+07 |\n",
      "+----+-------+-------------------------+\n",
      "|  4 |  2024 |             1.92993e+07 |\n",
      "+----+-------+-------------------------+\n",
      "|  0 |  2025 |             1.93184e+07 |\n",
      "+----+-------+-------------------------+\n",
      "|  1 |  2026 |             1.94213e+07 |\n",
      "+----+-------+-------------------------+\n"
     ]
    }
   ],
   "source": [
    "#!pip install pandas\n",
    "#!pip install scikit-learn\n",
    "#!pip install tabulate\n",
    "\n",
    "import pandas as pd\n",
    "from sklearn.linear_model import LinearRegression\n",
    "from tabulate import tabulate  # Para exibir a tabela formatada\n",
    "\n",
    "# 1. Leitura dos arquivos CSV\n",
    "dengue_cases = pd.read_csv('CasosDengue_2020-2024.csv', delimiter=';')\n",
    "climate_data = pd.read_csv('Media_Climatologica_Anual_2020-2024.csv', delimiter=';')\n",
    "\n",
    "# 2. Seleção das colunas necessárias e junção dos datasets\n",
    "dengue_cases = dengue_cases[['Ano', 'Total']]\n",
    "climate_data.columns = ['Ano', 'Precipitacao', 'Temperatura']\n",
    "\n",
    "# Juntar os dois datasets com base no ano\n",
    "data = pd.merge(dengue_cases, climate_data, on='Ano')\n",
    "\n",
    "# 3. Divisão dos dados de 2020 a 2022 para treinamento\n",
    "train_data = data[data['Ano'] <= 2022]\n",
    "test_data = data[data['Ano'] > 2022]\n",
    "\n",
    "# Separar os dados em X (entrada) e y (saída)\n",
    "X_train = train_data[['Precipitacao', 'Temperatura']]\n",
    "y_train = train_data['Total']\n",
    "\n",
    "# 4. Criação do modelo de regressão linear\n",
    "regression_model = LinearRegression()\n",
    "regression_model.fit(X_train, y_train)\n",
    "\n",
    "# 5. Prever casos para 2024, 2025 e 2026\n",
    "# Adicionando dados fictícios para 2025 e 2026\n",
    "future_data = pd.DataFrame({\n",
    "    'Ano': [2025, 2026],\n",
    "    'Precipitacao': [113.0, 112.0],  # Valores estimados\n",
    "    'Temperatura': [23.5, 23.3]      # Valores estimados\n",
    "})\n",
    "\n",
    "# Combinar os dados de teste (2023 e 2024) com os futuros (2025 e 2026)\n",
    "test_data_extended = pd.concat([test_data[['Ano', 'Precipitacao', 'Temperatura']], future_data])\n",
    "\n",
    "# Previsão para os anos 2023 a 2026\n",
    "X_test = test_data_extended[['Precipitacao', 'Temperatura']]\n",
    "predictions = regression_model.predict(X_test)\n",
    "\n",
    "# Tabela com os resultados\n",
    "result_table = pd.DataFrame({\n",
    "    'Ano': test_data_extended['Ano'],\n",
    "    'Previsao_Casos_Dengue': predictions\n",
    "})\n",
    "\n",
    "# Adicionar os valores reais para os anos de 2020, 2021 e 2022\n",
    "for ano in [2020, 2021, 2022]:\n",
    "    valor_real = data[data['Ano'] == ano]['Total'].values[0]\n",
    "    result_table = pd.concat([pd.DataFrame({'Ano': [ano], 'Previsao_Casos_Dengue': [valor_real]}), result_table])\n",
    "\n",
    "# Exibir tabela formatada\n",
    "print(tabulate(result_table, headers='keys', tablefmt='grid'))\n"
   ]
  }
 ],
 "metadata": {
  "kernelspec": {
   "display_name": "Python 3",
   "language": "python",
   "name": "python3"
  },
  "language_info": {
   "codemirror_mode": {
    "name": "ipython",
    "version": 3
   },
   "file_extension": ".py",
   "mimetype": "text/x-python",
   "name": "python",
   "nbconvert_exporter": "python",
   "pygments_lexer": "ipython3",
   "version": "3.12.6"
  }
 },
 "nbformat": 4,
 "nbformat_minor": 2
}
