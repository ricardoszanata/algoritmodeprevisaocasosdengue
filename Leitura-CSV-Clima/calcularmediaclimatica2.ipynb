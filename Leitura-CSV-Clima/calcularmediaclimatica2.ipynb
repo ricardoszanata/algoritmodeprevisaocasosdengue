{
 "cells": [
  {
   "cell_type": "code",
   "execution_count": 2,
   "metadata": {},
   "outputs": [
    {
     "name": "stdout",
     "output_type": "stream",
     "text": [
      "/home/ricks/Documentos/Mestrado/Aprendizado-de-Maquina/TabalhoFinalMLDengue/Leitura-CSV-Clima/Climatologia-Media-Nacional\n",
      "Arquivo de médias anual criado com sucesso!\n"
     ]
    }
   ],
   "source": [
    "import os\n",
    "import pandas as pd\n",
    "\n",
    "# Definir o diretório que contém os arquivos CSV\n",
    "pasta_csv = '/home/ricks/Documentos/Mestrado/Aprendizado-de-Maquina/TabalhoFinalMLDengue/Leitura-CSV-Clima/Climatologia-Media-Nacional'\n",
    "print(pasta_csv)\n",
    "\n",
    "# Criar um DataFrame vazio para armazenar os dados combinados\n",
    "dados_combinados = pd.DataFrame()\n",
    "\n",
    "# Percorrer todos os arquivos da pasta\n",
    "for arquivo in os.listdir(pasta_csv):\n",
    "    if arquivo.endswith('.csv'):\n",
    "        caminho_arquivo = os.path.join(pasta_csv, arquivo)\n",
    "        # Ler o arquivo CSV, ignorando as 10 primeiras linhas\n",
    "        dados = pd.read_csv(caminho_arquivo, sep=';', na_values=['null', ''], decimal=',', skiprows=10)\n",
    "\n",
    "        dados.columns = dados.columns.str.strip()\n",
    "\n",
    "        # Converter a coluna \"Data Medicao\" para datetime\n",
    "        dados['Data Medicao'] = pd.to_datetime(dados['Data Medicao'], format='%Y-%m-%d')\n",
    "\n",
    "        # Adicionar uma coluna \"Ano\"\n",
    "        dados['Ano'] = dados['Data Medicao'].dt.year\n",
    "\n",
    "        # Adicionar os dados ao DataFrame combinado\n",
    "        dados_combinados = pd.concat([dados_combinados, dados], ignore_index=True)\n",
    "\n",
    "# Agrupar os dados por ano e calcular as médias de precipitação e temperatura\n",
    "media_anual = dados_combinados.groupby('Ano').agg({\n",
    "    'PRECIPITACAO TOTAL, MENSAL (AUT)(mm)': 'mean',\n",
    "    'TEMPERATURA MEDIA, MENSAL (AUT)(°C)': 'mean'\n",
    "}).reset_index()\n",
    "\n",
    "# Salvar o DataFrame resultante em um novo arquivo CSV\n",
    "media_anual.to_csv('/home/ricks/Documentos/Mestrado/Aprendizado-de-Maquina/TabalhoFinalMLDengue/Leitura-CSV-Clima/media_climatologica_anual.csv', index=False)\n",
    "\n",
    "print(\"Arquivo de médias anual criado com sucesso!\")\n"
   ]
  }
 ],
 "metadata": {
  "kernelspec": {
   "display_name": "Python 3",
   "language": "python",
   "name": "python3"
  },
  "language_info": {
   "codemirror_mode": {
    "name": "ipython",
    "version": 3
   },
   "file_extension": ".py",
   "mimetype": "text/x-python",
   "name": "python",
   "nbconvert_exporter": "python",
   "pygments_lexer": "ipython3",
   "version": "3.12.6"
  }
 },
 "nbformat": 4,
 "nbformat_minor": 2
}
